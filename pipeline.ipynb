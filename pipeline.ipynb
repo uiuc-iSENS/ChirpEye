{
 "cells": [
  {
   "cell_type": "code",
   "execution_count": 19,
   "metadata": {},
   "outputs": [],
   "source": [
    "from utils import *"
   ]
  },
  {
   "cell_type": "markdown",
   "metadata": {},
   "source": [
    "## Tag Structure Parameters"
   ]
  },
  {
   "cell_type": "code",
   "execution_count": 20,
   "metadata": {},
   "outputs": [],
   "source": [
    "plot = False\n",
    "## Delay Line Parameters:\n",
    "delta_L1 = (72 - 3) * 0.0254\n",
    "delta_L2 = (72 - 48) * 0.0254\n",
    "delta_L3 = (48 - 3) * 0.0254\n",
    "expected_ratios = [\n",
    "    delta_L1 / delta_L3,  # Ratio 1 (L1 to L3)\n",
    "    delta_L3 / delta_L2,   # Ratio 2 (L3 to L2)\n",
    "    delta_L1 / delta_L2,   # Ratio 2 (L3 to L2)\n",
    "]"
   ]
  },
  {
   "cell_type": "markdown",
   "metadata": {},
   "source": [
    "## Example input file\n",
    "- -10 degree, slope: Data/pipeline/-10degree/9000-10000-150-100-m10-3-3.csv\n",
    "- No radar file: Data/pipeline/noradar/0-0-0-0-0-0-1.csv"
   ]
  },
  {
   "cell_type": "markdown",
   "metadata": {},
   "source": [
    "# 1. Radar Detection"
   ]
  },
  {
   "cell_type": "code",
   "execution_count": 21,
   "metadata": {},
   "outputs": [],
   "source": [
    "threshold = 0.5\n",
    "tolerance = 1\n",
    "\n",
    "range_bins = np.array([3])\n",
    "\n",
    "n10_directory_path = \"./Data/pipeline/-10degree/\"\n",
    "n10_data_dict = read_data_dict(n10_directory_path)\n",
    "n10_dist_data, n10_dist_snr = calculate_detection_rate_with_detectable_snr(n10_data_dict, tolerance, threshold, \"distance\", range_bins, expected_ratios, return_snr=True)"
   ]
  },
  {
   "cell_type": "code",
   "execution_count": 22,
   "metadata": {},
   "outputs": [
    {
     "name": "stdout",
     "output_type": "stream",
     "text": [
      "Radar is detected!!!\n"
     ]
    }
   ],
   "source": [
    "if n10_dist_data[0] == 1.0:\n",
    "    print(\"Radar is detected!!!\")"
   ]
  },
  {
   "cell_type": "code",
   "execution_count": 23,
   "metadata": {},
   "outputs": [
    {
     "name": "stdout",
     "output_type": "stream",
     "text": [
      "Error for 0-0-1-0-0-0.0-0: Score too low, signal not periodic!\n",
      "Radar Not Detected!!\n"
     ]
    }
   ],
   "source": [
    "noradar_directory_path = \"./Data/pipeline/noradar/\"\n",
    "noradar_data_dict = read_data_dict(noradar_directory_path)\n",
    "noradar_dist_data, n10_dist_snr = calculate_detection_rate_with_detectable_snr(noradar_data_dict, tolerance, threshold, \"distance\", range_bins, expected_ratios, return_snr=True)\n",
    "print(\"Radar Not Detected!!\")"
   ]
  },
  {
   "cell_type": "markdown",
   "metadata": {},
   "source": [
    "# 2. Radar Slope and Radar Angle of Arrival (AoA) Estimation\n",
    "For detected radar signal, we need to further estimate it chirp slope and angle of arrival information"
   ]
  },
  {
   "cell_type": "code",
   "execution_count": 24,
   "metadata": {},
   "outputs": [
    {
     "name": "stdout",
     "output_type": "stream",
     "text": [
      "Predicted Slope: 6852467724883.765, Predicted Angle: -9.990164771550713\n",
      "GT Slope: 6666666666666.667, GT Angle: -10\n"
     ]
    }
   ],
   "source": [
    "data_dict = read_data_dict(n10_directory_path)\n",
    "for key in data_dict:\n",
    "    data_obj = data_dict[key]\n",
    "    theory_peak_1, theory_peak_2, theory_peak_3 = calculate_gt_frequency_peak(data_obj, delta_L1, delta_L2, delta_L3, d, c, speed_ratio)\n",
    "    gt_peaks = theory_peak_1, theory_peak_2, theory_peak_3\n",
    "    data = data_obj['data']\n",
    "    gt_slope = data_obj['slope']\n",
    "    gt_angle = data_obj['angle']\n",
    "    timestamp = data[:, 0]\n",
    "    amplitude = data[:, 1] * 1.0\n",
    "    fs = len(timestamp) / ((timestamp[-1] - timestamp[0])) # timestamps in 1us\n",
    "    _, _, valid_freq_list = find_beat_freq_triplet_with_expected_ratio(expected_ratios, tolerance, data_obj, radar_detection_mode = False, plot = False, return_snr = False, crop_to_list = True, fix_amplitude_order=True, noise_count = 10, noise_level = 7, window_length = 15)\n",
    "    for predicted_peaks in valid_freq_list:\n",
    "        if len(predicted_peaks) == 0:\n",
    "            continue\n",
    "        predicted_slope, predicted_angle = calculate_slope_and_angle(predicted_peaks, delta_L1, delta_L2, delta_L3, d, c, speed_ratio, frequency_offsets = [0, 1300, 0])\n",
    "print(f\"Predicted Slope: {predicted_slope}, Predicted Angle: {predicted_angle}\")\n",
    "print(f\"GT Slope: {gt_slope}, GT Angle: {gt_angle}\")"
   ]
  },
  {
   "cell_type": "markdown",
   "metadata": {},
   "source": []
  }
 ],
 "metadata": {
  "kernelspec": {
   "display_name": "base",
   "language": "python",
   "name": "python3"
  },
  "language_info": {
   "codemirror_mode": {
    "name": "ipython",
    "version": 3
   },
   "file_extension": ".py",
   "mimetype": "text/x-python",
   "name": "python",
   "nbconvert_exporter": "python",
   "pygments_lexer": "ipython3",
   "version": "3.9.15"
  }
 },
 "nbformat": 4,
 "nbformat_minor": 2
}
